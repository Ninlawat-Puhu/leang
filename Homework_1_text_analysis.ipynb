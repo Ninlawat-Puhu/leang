{
  "nbformat": 4,
  "nbformat_minor": 0,
  "metadata": {
    "colab": {
      "name": "Homework 1- text analysis.ipynb",
      "provenance": [],
      "collapsed_sections": []
    },
    "kernelspec": {
      "name": "python3",
      "display_name": "Python 3"
    }
  },
  "cells": [
    {
      "cell_type": "markdown",
      "metadata": {
        "id": "IXgwHw4H9qqr",
        "colab_type": "text"
      },
      "source": [
        "# **Position Home**\n",
        "\n"
      ]
    },
    {
      "cell_type": "code",
      "metadata": {
        "id": "0eREy6rTbA_d",
        "colab_type": "code",
        "outputId": "d7686802-55b6-4da7-b6cd-6a6b51aeed45",
        "colab": {
          "base_uri": "https://localhost:8080/",
          "height": 261
        }
      },
      "source": [
        "from requests import get\n",
        "\n",
        "url = \"https://www.airvisual.com/thailand/bangkok/bang-bon\"\n",
        "response = get(url)\n",
        "print(response.text[:1000])"
      ],
      "execution_count": 42,
      "outputs": [
        {
          "output_type": "stream",
          "text": [
            "<!DOCTYPE html><html lang=\"en\"><head>\n",
            "    <meta charset=\"utf-8\">\n",
            "    <meta name=\"viewport\" content=\"width=device-width, initial-scale=1, maximum-scale=5.0\">\n",
            "    <meta http-equiv=\"X-UA-Compatible\" content=\"IE=edge\">\n",
            "    <title>Bang Bon Air Quality Index (AQI) and Thailand Air Pollution | AirVisual</title>\n",
            "    <base href=\"/\">\n",
            "    <meta name=\"apple-itunes-app\" content=\"app-id=1048912974\">\n",
            "    <link rel=\"apple-touch-icon\" sizes=\"180x180\" href=\"assets/favicons/apple-touch-icon.png\">\n",
            "    <link rel=\"icon\" type=\"image/png\" sizes=\"32x32\" href=\"assets/favicons/favicon-32x32.png\">\n",
            "    <link rel=\"icon\" type=\"image/png\" sizes=\"16x16\" href=\"assets/favicons/favicon-16x16.png\">\n",
            "    <link rel=\"manifest\" href=\"assets/favicons/site.webmanifest\">\n",
            "    <link rel=\"mask-icon\" href=\"assets/favicons/safari-pinned-tab.svg\" color=\"#d9272e\">\n",
            "    <link rel=\"shortcut icon\" href=\"assets/favicons/favicon.ico?v=2\">\n",
            "    <meta name=\"msapplication-TileColor\" content=\"#ffffff\">\n",
            "    <meta name=\"msapplication-config\" content\n"
          ],
          "name": "stdout"
        }
      ]
    },
    {
      "cell_type": "code",
      "metadata": {
        "id": "4jwA0bCS6If9",
        "colab_type": "code",
        "colab": {
          "base_uri": "https://localhost:8080/",
          "height": 33
        },
        "outputId": "39ba9aba-a6e7-4dcd-fe2d-8d130db7194f"
      },
      "source": [
        "from bs4 import BeautifulSoup\n",
        "\n",
        "html_soup = BeautifulSoup(response.text,'html.parser')\n",
        "type(html_soup)"
      ],
      "execution_count": 43,
      "outputs": [
        {
          "output_type": "execute_result",
          "data": {
            "text/plain": [
              "bs4.BeautifulSoup"
            ]
          },
          "metadata": {
            "tags": []
          },
          "execution_count": 43
        }
      ]
    },
    {
      "cell_type": "code",
      "metadata": {
        "id": "iON9kHtp6M8O",
        "colab_type": "code",
        "colab": {
          "base_uri": "https://localhost:8080/",
          "height": 50
        },
        "outputId": "0f3e116c-5aa5-4fdc-ea56-c4653ffdee73"
      },
      "source": [
        "level = html_soup.find_all('span',class_='status-text')\n",
        "\n",
        "print(type(level))\n",
        "print(len(level))"
      ],
      "execution_count": 44,
      "outputs": [
        {
          "output_type": "stream",
          "text": [
            "<class 'bs4.element.ResultSet'>\n",
            "1\n"
          ],
          "name": "stdout"
        }
      ]
    },
    {
      "cell_type": "code",
      "metadata": {
        "id": "bdPbarcB6mR-",
        "colab_type": "code",
        "colab": {
          "base_uri": "https://localhost:8080/",
          "height": 33
        },
        "outputId": "6930aec8-a3d9-4a57-aa32-9338fbf9d385"
      },
      "source": [
        "level_text = level[0]\n",
        "level_text.text"
      ],
      "execution_count": 45,
      "outputs": [
        {
          "output_type": "execute_result",
          "data": {
            "text/plain": [
              "'Moderate'"
            ]
          },
          "metadata": {
            "tags": []
          },
          "execution_count": 45
        }
      ]
    },
    {
      "cell_type": "code",
      "metadata": {
        "id": "3N7v-Y-461WF",
        "colab_type": "code",
        "colab": {
          "base_uri": "https://localhost:8080/",
          "height": 50
        },
        "outputId": "716ac5d7-3826-4f3c-9865-565c80014d6c"
      },
      "source": [
        "value = html_soup.find_all('span',class_='aqi')\n",
        "\n",
        "print(type(value))\n",
        "print(len(value))"
      ],
      "execution_count": 46,
      "outputs": [
        {
          "output_type": "stream",
          "text": [
            "<class 'bs4.element.ResultSet'>\n",
            "2\n"
          ],
          "name": "stdout"
        }
      ]
    },
    {
      "cell_type": "code",
      "metadata": {
        "id": "Uk8XGEP27IcQ",
        "colab_type": "code",
        "colab": {
          "base_uri": "https://localhost:8080/",
          "height": 33
        },
        "outputId": "34881bbf-ce09-4fb2-ec6b-fa20c72cf4a7"
      },
      "source": [
        "value_text = value[1]\n",
        "value_text.text"
      ],
      "execution_count": 47,
      "outputs": [
        {
          "output_type": "execute_result",
          "data": {
            "text/plain": [
              "'70'"
            ]
          },
          "metadata": {
            "tags": []
          },
          "execution_count": 47
        }
      ]
    },
    {
      "cell_type": "markdown",
      "metadata": {
        "id": "TlyAJU0M9Bp1",
        "colab_type": "text"
      },
      "source": [
        "# **Position Workplace**"
      ]
    },
    {
      "cell_type": "code",
      "metadata": {
        "id": "IXB6xlLf9P8t",
        "colab_type": "code",
        "colab": {
          "base_uri": "https://localhost:8080/",
          "height": 261
        },
        "outputId": "727b9a49-67c1-4b8f-e24f-4980a3f85874"
      },
      "source": [
        "from requests import get\n",
        "\n",
        "url = \"https://www.airvisual.com/thailand/bangkok/huai-khwang\"\n",
        "response = get(url)\n",
        "print(response.text[:1000])"
      ],
      "execution_count": 48,
      "outputs": [
        {
          "output_type": "stream",
          "text": [
            "<!DOCTYPE html><html lang=\"en\"><head>\n",
            "    <meta charset=\"utf-8\">\n",
            "    <meta name=\"viewport\" content=\"width=device-width, initial-scale=1, maximum-scale=5.0\">\n",
            "    <meta http-equiv=\"X-UA-Compatible\" content=\"IE=edge\">\n",
            "    <title>Huai Khwang Air Quality Index (AQI) and Thailand Air Pollution | AirVisual</title>\n",
            "    <base href=\"/\">\n",
            "    <meta name=\"apple-itunes-app\" content=\"app-id=1048912974\">\n",
            "    <link rel=\"apple-touch-icon\" sizes=\"180x180\" href=\"assets/favicons/apple-touch-icon.png\">\n",
            "    <link rel=\"icon\" type=\"image/png\" sizes=\"32x32\" href=\"assets/favicons/favicon-32x32.png\">\n",
            "    <link rel=\"icon\" type=\"image/png\" sizes=\"16x16\" href=\"assets/favicons/favicon-16x16.png\">\n",
            "    <link rel=\"manifest\" href=\"assets/favicons/site.webmanifest\">\n",
            "    <link rel=\"mask-icon\" href=\"assets/favicons/safari-pinned-tab.svg\" color=\"#d9272e\">\n",
            "    <link rel=\"shortcut icon\" href=\"assets/favicons/favicon.ico?v=2\">\n",
            "    <meta name=\"msapplication-TileColor\" content=\"#ffffff\">\n",
            "    <meta name=\"msapplication-config\" cont\n"
          ],
          "name": "stdout"
        }
      ]
    },
    {
      "cell_type": "code",
      "metadata": {
        "id": "EUGb3oyL-buE",
        "colab_type": "code",
        "colab": {
          "base_uri": "https://localhost:8080/",
          "height": 33
        },
        "outputId": "0ca07c46-c23a-4bee-c407-a0861534843a"
      },
      "source": [
        "from bs4 import BeautifulSoup\n",
        "\n",
        "html_soup_1 = BeautifulSoup(response.text,'html.parser')\n",
        "type(html_soup_1)"
      ],
      "execution_count": 49,
      "outputs": [
        {
          "output_type": "execute_result",
          "data": {
            "text/plain": [
              "bs4.BeautifulSoup"
            ]
          },
          "metadata": {
            "tags": []
          },
          "execution_count": 49
        }
      ]
    },
    {
      "cell_type": "code",
      "metadata": {
        "id": "l03pZyaQ9659",
        "colab_type": "code",
        "colab": {
          "base_uri": "https://localhost:8080/",
          "height": 50
        },
        "outputId": "1ee29550-d2a2-4f52-da26-c211fd63baef"
      },
      "source": [
        "level = html_soup_1.find_all('span',class_='status-text')\n",
        "\n",
        "print(type(level))\n",
        "print(len(level))"
      ],
      "execution_count": 50,
      "outputs": [
        {
          "output_type": "stream",
          "text": [
            "<class 'bs4.element.ResultSet'>\n",
            "1\n"
          ],
          "name": "stdout"
        }
      ]
    },
    {
      "cell_type": "code",
      "metadata": {
        "id": "mSpJin5c9_Em",
        "colab_type": "code",
        "colab": {
          "base_uri": "https://localhost:8080/",
          "height": 33
        },
        "outputId": "13db381d-a575-4041-d4d9-6e68f55892c4"
      },
      "source": [
        "level_text = level[0]\n",
        "level_text.text"
      ],
      "execution_count": 51,
      "outputs": [
        {
          "output_type": "execute_result",
          "data": {
            "text/plain": [
              "'Moderate'"
            ]
          },
          "metadata": {
            "tags": []
          },
          "execution_count": 51
        }
      ]
    },
    {
      "cell_type": "code",
      "metadata": {
        "id": "SPmbfByz-B_b",
        "colab_type": "code",
        "colab": {
          "base_uri": "https://localhost:8080/",
          "height": 50
        },
        "outputId": "cbbd8d7c-c50b-452c-f378-2a135d5a6843"
      },
      "source": [
        "value = html_soup_1.find_all('span',class_='aqi')\n",
        "\n",
        "print(type(value))\n",
        "print(len(value))"
      ],
      "execution_count": 52,
      "outputs": [
        {
          "output_type": "stream",
          "text": [
            "<class 'bs4.element.ResultSet'>\n",
            "2\n"
          ],
          "name": "stdout"
        }
      ]
    },
    {
      "cell_type": "code",
      "metadata": {
        "id": "Xn2MHA-6-ECr",
        "colab_type": "code",
        "colab": {
          "base_uri": "https://localhost:8080/",
          "height": 33
        },
        "outputId": "9cfc1384-15fb-41b8-d76c-87de33ed8647"
      },
      "source": [
        "value_text = value[1]\n",
        "value_text.text"
      ],
      "execution_count": 53,
      "outputs": [
        {
          "output_type": "execute_result",
          "data": {
            "text/plain": [
              "'59'"
            ]
          },
          "metadata": {
            "tags": []
          },
          "execution_count": 53
        }
      ]
    }
  ]
}